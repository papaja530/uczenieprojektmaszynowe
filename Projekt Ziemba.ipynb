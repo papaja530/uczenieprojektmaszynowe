{
 "cells": [
  {
   "cell_type": "markdown",
   "metadata": {},
   "source": [
    "# Projekt Uczenie Maszynowe "
   ]
  },
  {
   "cell_type": "raw",
   "metadata": {},
   "source": [
    "Projekt polegał na nauczeniu systemu na zbiorze treningowym oraz przetestowanie go na zbiorze testowym oraz predykcjach wartości kwh."
   ]
  },
  {
   "cell_type": "markdown",
   "metadata": {},
   "source": [
    "1. Załadowanie odpowiednich bibliotek m.in. pandas, sklearn."
   ]
  },
  {
   "cell_type": "code",
   "execution_count": null,
   "metadata": {},
   "outputs": [],
   "source": [
    "import pandas as pd\n",
    "import math as m\n",
    "import sklearn\n",
    "import numpy as n\n",
    "from sklearn.ensemble import RandomForestRegressor\n",
    "from sklearn import linear_model\n",
    "from sklearn import ensemble\n",
    "from sklearn.linear_model import RidgeCV, Ridge\n",
    "from sklearn.metrics import mean_squared_error, r2_score"
   ]
  },
  {
   "cell_type": "markdown",
   "metadata": {},
   "source": [
    "2. Wczytanie zbioru testowego oraz treningowego"
   ]
  },
  {
   "cell_type": "code",
   "execution_count": null,
   "metadata": {},
   "outputs": [],
   "source": [
    "df_train = pd.read_csv('train.csv')\n",
    "df_test = pd.read_csv('test.csv')"
   ]
  },
  {
   "cell_type": "markdown",
   "metadata": {},
   "source": [
    "3. Za pomocą linear_model.Ridge oraz ustawienia odpowiednich parametrów dokonania predykcji. Ważne równiż była odpowiednia kolejność nazw kolumn branych pod uwagę."
   ]
  },
  {
   "cell_type": "code",
   "execution_count": null,
   "metadata": {},
   "outputs": [],
   "source": [
    "data = data[['id', 'temperatura_ambiente','cloudcover', 'irradiamento','dist', 'pressure','tempi','windspeed', 'humidity', 'dewpoint',\n",
    "                     'windbearing', 'altitude']]\n",
    "\n",
    "\n",
    "\n",
    "data_train = data.iloc[:235790]\n",
    "data_test = data.iloc[235790:]\n",
    "\n",
    "\n",
    "X = data_train.values\n",
    "y = kwh_train.values\n",
    "test = data_test.values\n",
    "\n",
    "\n",
    "regr = linear_model.Ridge (alpha = .23)\n",
    "\n",
    "regr.fit(X, y)\n",
    "Ridge(alpha=0.8, copy_X=True, fit_intercept=True, max_iter=None,\n",
    "      normalize=False, random_state=None, solver='auto', tol=0.001)\n",
    "\n",
    "\n",
    "y_pred = regr.predict(test)\n",
    "\n",
    "df_test['kwh'] =  y_pred\n",
    "\n",
    "num = df_test._get_numeric_data()\n",
    "df_test['kwh'][df_test['kwh'] < 0] = '0.0'\n",
    "\n",
    "print(df_test)\n",
    "\n"
   ]
  },
  {
   "cell_type": "markdown",
   "metadata": {},
   "source": [
    "4. Na koniec dane wyjściowe zostały zapisane w pliku wynikk.csv oraz wrzucone na https://www.kaggle.com/c/solarscholar"
   ]
  },
  {
   "cell_type": "code",
   "execution_count": null,
   "metadata": {},
   "outputs": [],
   "source": [
    "df_test[['id', 'kwh']].to_csv('wynikk.csv', index=False)"
   ]
  },
  {
   "cell_type": "markdown",
   "metadata": {},
   "source": [
    "5. Wnioski"
   ]
  },
  {
   "cell_type": "markdown",
   "metadata": {},
   "source": [
    "Na początku wystąpiło wiele problemów z uruchomieniem bibliotek w środowisku PyCharm, ale po wielokrotnej instalacji oraz aktualizacjach udało się wykonać projekt. \n"
   ]
  }
 ],
 "metadata": {
  "kernelspec": {
   "display_name": "Python 3",
   "language": "python",
   "name": "python3"
  },
  "language_info": {
   "codemirror_mode": {
    "name": "ipython",
    "version": 3
   },
   "file_extension": ".py",
   "mimetype": "text/x-python",
   "name": "python",
   "nbconvert_exporter": "python",
   "pygments_lexer": "ipython3",
   "version": "3.6.0"
  }
 },
 "nbformat": 4,
 "nbformat_minor": 2
}
